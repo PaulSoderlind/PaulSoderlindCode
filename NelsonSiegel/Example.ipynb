{
 "cells": [
  {
   "cell_type": "markdown",
   "metadata": {},
   "source": [
    " Example.jl\n",
    "\n",
    "\n",
    "\n",
    "\n",
    "\n",
    "\n",
    "\n",
    "\n",
    "\n",
    " Paul.Soderlind@unisg.ch, April 2002, to Julia Nov 2015"
   ]
  },
  {
   "cell_type": "code",
   "execution_count": 1,
   "metadata": {},
   "outputs": [
    {
     "data": {
      "text/plain": [
       "1"
      ]
     },
     "execution_count": 1,
     "metadata": {},
     "output_type": "execute_result"
    }
   ],
   "source": [
    "using Dates, Optim\n",
    "\n",
    "include(\"jlFiles/BondPricePs.jl\")\n",
    "include(\"jlFiles/BondNSxPs.jl\")\n",
    "include(\"jlFiles/printmat.jl\")\n",
    "\n",
    "\n",
    "ytmLoss  = 0           #0: mimimize squared price errors: 1: minimize squared ytm errors\n",
    "  weightLoss = 1       #1: 1/mat as weights for (fitted price-price)^2 in loss fn (only if ytmLoss==0)"
   ]
  },
  {
   "cell_type": "code",
   "execution_count": 2,
   "metadata": {},
   "outputs": [
    {
     "data": {
      "text/plain": [
       "true"
      ]
     },
     "execution_count": 2,
     "metadata": {},
     "output_type": "execute_result"
    }
   ],
   "source": [
    "                                 #Swedish bond data for 29 Dec 1993\n",
    "\n",
    "#coupons in %/yr\n",
    "c  = [ 0;        0;         0;         0;         11.5;      10.75;\n",
    "       11;       13;        10.25;     6;         9 ]\n",
    "\n",
    "#time to maturity in year\n",
    "tm = [ 0.00274;  0.21096;   0.46027;   0.88219;   1.67397;   3.06849;\n",
    "       5.06301;  7.46027;   9.34795;   11.11507;  15.30685 ]\n",
    "\n",
    "#interest rates.  Bills: simple rates in %/yr; bonds: yield to maturity in %/yr\n",
    "y  = [ 7.75;     6.835;    6.655;     6.41;      6.215;     6.195;\n",
    "       6.41;     6.755;    7.01;      7.21;      7.325 ]\n",
    "\n",
    "n = length(y)       #number of bonds\n",
    "\n",
    "Base.require_one_based_indexing(tm,y)"
   ]
  },
  {
   "cell_type": "code",
   "execution_count": 3,
   "metadata": {},
   "outputs": [],
   "source": [
    "#transform the data\n",
    "\n",
    "c  = c/100 # -> column vector, coupons and yields as 0.05 rather than 5\n",
    "y  = y/100\n",
    "\n",
    "vvc    = c .== 0                #if bill, change from simple to effective rate\n",
    "y[vvc] = (1 .+ tm[vvc].*y[vvc]).^(1.0./tm[vvc]) .- 1\n",
    "\n",
    "P = fill(NaN,length(y))         #calculate bond prices\n",
    "for i = 1:n\n",
    "  local ti\n",
    "  ti   = mod(tm[i],1):tm[i]\n",
    "  P[i] = BondPricePs(y[i],c[i],ti)\n",
    "end"
   ]
  },
  {
   "cell_type": "code",
   "execution_count": 4,
   "metadata": {},
   "outputs": [
    {
     "name": "stdout",
     "output_type": "stream",
     "text": [
      "\n",
      "Parameter estimates: \n",
      "              \n",
      "b0       0.081\n",
      "b1      -0.003\n",
      "b2      -0.062\n",
      "tau      1.634\n",
      "b3      -0.020\n",
      "tau2     0.175\n",
      "\n"
     ]
    }
   ],
   "source": [
    "#estimating parameters in extended Nelson&Siegel model, restricted so b0 + b1 = log(1+y[1])\n",
    "\n",
    "parX0 = [0.1045;-0.03;-0.0562;1.2;0;0.5]       #starting guess\n",
    "\n",
    "if ytmLoss == 1                                #loss(ytm)\n",
    "  NSXbR = BondNSxEstPs(parX0,y,tm,c,log(1+y[1]),1)\n",
    "else\n",
    "  if weightLoss == 1                           #loss(P/maturity)\n",
    "    NSXbR = BondNSxEstPs(parX0,P,tm,c,log(1+y[1]),0,1.0./tm)\n",
    "  else                                         #loss(P)\n",
    "    NSXbR = BondNSxEstPs(parX0,P,tm,c,log(1+y[1]))\n",
    "  end\n",
    "end\n",
    "\n",
    "println(\"\\nParameter estimates: \")\n",
    "printTable(NSXbR,[\"\"],[\"b0\",\"b1\",\"b2\",\"tau\",\"b3\",\"tau2\"])"
   ]
  },
  {
   "cell_type": "code",
   "execution_count": 5,
   "metadata": {},
   "outputs": [
    {
     "name": "stdout",
     "output_type": "stream",
     "text": [
      "\n",
      "Actual and model ytm, %: \n",
      "maturity     ytm actual      ytm model\n",
      "0.00274           8.057          8.035\n",
      "0.21096           7.022          7.073\n",
      "0.46027           6.775          6.718\n",
      "0.88219           6.434          6.468\n",
      "1.67397           6.215          6.216\n",
      "3.06849           6.195          6.167\n",
      "5.06301           6.410          6.439\n",
      "7.46027           6.755          6.765\n",
      "9.34795           7.010          6.985\n",
      "11.11507          7.210          7.187\n",
      "15.30685          7.325          7.346\n",
      "\n"
     ]
    }
   ],
   "source": [
    "ytmx = fill(NaN,n)            #model implied ytm\n",
    "for i = 1:n\n",
    "  local ti,d,Qx\n",
    "  ti      = mod(tm[i],1):tm[i]\n",
    "  d       = BondNSxPs(ti,NSXbR...)[3]    #... expands into NSXbR[1],NSXbR[2],...\n",
    "  Qx      = sum(d.*c[i]) + d[end]     #model implied bond price\n",
    "  #println(ti)\n",
    "  ytmx[i] = BondYieldToMatPs(Qx,c[i],ti,1,1,0.05,1e-7)[1]\n",
    "end\n",
    "\n",
    "println(\"\\nActual and model ytm, %: \")\n",
    "printTable([y ytmx]*100,[\"ytm actual\",\"ytm model\"],string.(tm),width=15,cell00=\"maturity\")"
   ]
  },
  {
   "cell_type": "code",
   "execution_count": 6,
   "metadata": {},
   "outputs": [
    {
     "name": "stdout",
     "output_type": "stream",
     "text": [
      "\n",
      "model spot and forward rates, %: \n",
      "maturity           spot        forward\n",
      "1.0e-8            8.057          8.057\n",
      "0.1               7.443          6.994\n",
      "0.2               7.100          6.590\n",
      "0.3               6.900          6.437\n",
      "0.4               6.774          6.363\n",
      "0.5               6.686          6.306\n",
      "0.6               6.618          6.245\n",
      "0.7               6.560          6.178\n",
      "0.8               6.508          6.110\n",
      "0.9               6.460          6.045\n",
      "1.0               6.415          5.987\n",
      "1.1               6.374          5.938\n",
      "1.2               6.336          5.900\n",
      "1.3               6.301          5.871\n",
      "1.4               6.270          5.854\n",
      "1.5               6.241          5.846\n",
      "1.6               6.217          5.848\n",
      "1.7               6.195          5.858\n",
      "1.8               6.177          5.875\n",
      "1.9               6.162          5.899\n",
      "2.0               6.149          5.929\n",
      "2.1               6.139          5.964\n",
      "2.2               6.132          6.003\n",
      "2.3               6.128          6.047\n",
      "2.4               6.125          6.093\n",
      "2.5               6.125          6.143\n",
      "2.6               6.127          6.194\n",
      "2.7               6.130          6.247\n",
      "2.8               6.135          6.302\n",
      "2.9               6.142          6.358\n",
      "3.0               6.150          6.415\n",
      "3.1               6.160          6.472\n",
      "3.2               6.170          6.529\n",
      "3.3               6.182          6.586\n",
      "3.4               6.195          6.643\n",
      "3.5               6.208          6.700\n",
      "3.6               6.223          6.756\n",
      "3.7               6.238          6.811\n",
      "3.8               6.253          6.866\n",
      "3.9               6.270          6.920\n",
      "4.0               6.287          6.973\n",
      "4.1               6.304          7.025\n",
      "4.2               6.322          7.075\n",
      "4.3               6.340          7.125\n",
      "4.4               6.358          7.173\n",
      "4.5               6.377          7.220\n",
      "4.6               6.395          7.266\n",
      "4.7               6.414          7.311\n",
      "4.8               6.433          7.354\n",
      "4.9               6.453          7.396\n",
      "5.0               6.472          7.437\n",
      "5.1               6.491          7.476\n",
      "5.2               6.510          7.515\n",
      "5.3               6.529          7.552\n",
      "5.4               6.549          7.587\n",
      "5.5               6.568          7.622\n",
      "5.6               6.587          7.655\n",
      "5.7               6.606          7.687\n",
      "5.8               6.624          7.718\n",
      "5.9               6.643          7.748\n",
      "6.0               6.662          7.777\n",
      "6.1               6.680          7.804\n",
      "6.2               6.698          7.831\n",
      "6.3               6.716          7.857\n",
      "6.4               6.734          7.881\n",
      "6.5               6.752          7.905\n",
      "6.6               6.770          7.927\n",
      "6.7               6.787          7.949\n",
      "6.8               6.804          7.970\n",
      "6.9               6.821          7.990\n",
      "7.0               6.838          8.009\n",
      "7.1               6.854          8.027\n",
      "7.2               6.871          8.045\n",
      "7.3               6.887          8.062\n",
      "7.4               6.903          8.078\n",
      "7.5               6.918          8.093\n",
      "7.6               6.934          8.108\n",
      "7.7               6.949          8.122\n",
      "7.8               6.964          8.136\n",
      "7.9               6.979          8.148\n",
      "8.0               6.994          8.161\n",
      "8.1               7.008          8.173\n",
      "8.2               7.022          8.184\n",
      "8.3               7.036          8.194\n",
      "8.4               7.050          8.205\n",
      "8.5               7.064          8.215\n",
      "8.6               7.077          8.224\n",
      "8.7               7.090          8.233\n",
      "8.8               7.103          8.241\n",
      "8.9               7.116          8.249\n",
      "9.0               7.128          8.257\n",
      "9.1               7.141          8.265\n",
      "9.2               7.153          8.272\n",
      "9.3               7.165          8.278\n",
      "9.4               7.177          8.285\n",
      "9.5               7.188          8.291\n",
      "9.6               7.200          8.296\n",
      "9.7               7.211          8.302\n",
      "9.8               7.222          8.307\n",
      "9.9               7.233          8.312\n",
      "10.0              7.244          8.317\n",
      "10.1              7.255          8.322\n",
      "10.2              7.265          8.326\n",
      "10.3              7.275          8.330\n",
      "10.4              7.285          8.334\n",
      "10.5              7.295          8.338\n",
      "10.6              7.305          8.341\n",
      "10.7              7.315          8.345\n",
      "10.8              7.324          8.348\n",
      "10.9              7.334          8.351\n",
      "11.0              7.343          8.354\n",
      "11.1              7.352          8.356\n",
      "11.2              7.361          8.359\n",
      "11.3              7.370          8.361\n",
      "11.4              7.378          8.364\n",
      "11.5              7.387          8.366\n",
      "11.6              7.395          8.368\n",
      "11.7              7.404          8.370\n",
      "11.8              7.412          8.372\n",
      "11.9              7.420          8.374\n",
      "12.0              7.428          8.376\n",
      "12.1              7.436          8.377\n",
      "12.2              7.443          8.379\n",
      "12.3              7.451          8.380\n",
      "12.4              7.458          8.382\n",
      "12.5              7.466          8.383\n",
      "12.6              7.473          8.384\n",
      "12.7              7.480          8.386\n",
      "12.8              7.487          8.387\n",
      "12.9              7.494          8.388\n",
      "13.0              7.501          8.389\n",
      "13.1              7.508          8.390\n",
      "13.2              7.514          8.391\n",
      "13.3              7.521          8.392\n",
      "13.4              7.527          8.393\n",
      "13.5              7.534          8.393\n",
      "13.6              7.540          8.394\n",
      "13.7              7.546          8.395\n",
      "13.8              7.552          8.395\n",
      "13.9              7.558          8.396\n",
      "14.0              7.564          8.397\n",
      "14.1              7.570          8.397\n",
      "14.2              7.576          8.398\n",
      "14.3              7.582          8.398\n",
      "14.4              7.587          8.399\n",
      "14.5              7.593          8.399\n",
      "14.6              7.599          8.400\n",
      "14.7              7.604          8.400\n",
      "14.8              7.609          8.401\n",
      "14.9              7.615          8.401\n",
      "15.0              7.620          8.401\n",
      "15.1              7.625          8.402\n",
      "15.2              7.630          8.402\n",
      "15.3              7.635          8.402\n",
      "15.4              7.640          8.403\n",
      "15.5              7.645          8.403\n",
      "15.6              7.650          8.403\n",
      "15.7              7.655          8.403\n",
      "15.8              7.659          8.404\n",
      "15.9              7.664          8.404\n",
      "16.0              7.669          8.404\n",
      "\n"
     ]
    }
   ],
   "source": [
    "#calculate model implied rates (spot, forward, yield to maturity) to plot\n",
    "\n",
    "tmFig      = [1e-8;0.1:0.1:16]           #maturities to plot\n",
    "(shx,fhx,) = BondNSxPs(tmFig,NSXbR...)\n",
    "shx        = exp.(shx) .- 1     #effective interest rate\n",
    "fhx        = exp.(fhx) .- 1\n",
    "\n",
    "println(\"\\nmodel spot and forward rates, %: \")\n",
    "printTable([shx fhx]*100,[\"spot\",\"forward\"],string.(tmFig),width=15,cell00=\"maturity\")"
   ]
  },
  {
   "cell_type": "code",
   "execution_count": 7,
   "metadata": {},
   "outputs": [
    {
     "data": {
      "image/png": "[encoded data removed]",
      "text/plain": [
       "Figure(PyObject <Figure size 640x480 with 1 Axes>)"
      ]
     },
     "metadata": {},
     "output_type": "display_data"
    },
    {
     "data": {
      "text/plain": [
       "(0.04, 0.14)"
      ]
     },
     "execution_count": 7,
     "metadata": {},
     "output_type": "execute_result"
    }
   ],
   "source": [
    "#Comment out this if you do not have PyPlot installed.\n",
    "\n",
    "using PyPlot\n",
    "PyPlot.svg(false)           #prettier figures if `true`\n",
    "close(\"all\")\n",
    "                                       #plotting\n",
    "figure()\n",
    "  plot(tm,c,\"+\",tm,y,\"s\",tmFig,shx,\"b--\",tmFig,fhx,\"r-\",tm,ytmx,\".\")\n",
    "  title(\"Swedish Interest Rates 29 Dec 1993\")\n",
    "  xlabel(\"Years to Maturity\")\n",
    "  legend([\"Coupon rate\",\"Yield to maturity\",\"Estimated spot rate\",\n",
    "         \"Estimated forward rate\",\"Estimated yield to maturity\"],loc=1)\n",
    "  ylim(0.04,0.14)\n",
    "  #display(gcf())            #uncomment in VsCode"
   ]
  },
  {
   "cell_type": "markdown",
   "metadata": {},
   "source": [
    "---\n",
    "\n",
    "*This notebook was generated using [Literate.jl](https://github.com/fredrikekre/Literate.jl).*"
   ]
  }
 ],
 "metadata": {
  "@webio": {
   "lastCommId": null,
   "lastKernelId": null
  },
  "kernelspec": {
   "display_name": "Julia 1.9.1",
   "language": "julia",
   "name": "julia-1.9"
  },
  "language_info": {
   "file_extension": ".jl",
   "mimetype": "application/julia",
   "name": "julia",
   "version": "1.9.1"
  }
 },
 "nbformat": 4,
 "nbformat_minor": 4
}
