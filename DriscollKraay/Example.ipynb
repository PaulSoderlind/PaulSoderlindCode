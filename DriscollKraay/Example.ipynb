{
 "cells": [
  {
   "cell_type": "markdown",
   "metadata": {},
   "source": [
    " Example.jl\n",
    "\n",
    "\n",
    " This file imports the data from csv files with Hoechle's data and then\n",
    " runs the regressions.\n",
    "\n",
    " Compare the results to Table 2 in Hoechle, 2007, \"Robust Standard Errors...\",\n",
    " Stata Journal, 7, 281-312.\n",
    " \n",
    " Paul.Soderlind@unisg.ch   Apr 2016"
   ]
  },
  {
   "cell_type": "code",
   "execution_count": 6,
   "metadata": {
    "tags": []
   },
   "outputs": [
    {
     "data": {
      "text/plain": [
       "HszDk5dwPs (generic function with 6 methods)"
      ]
     },
     "execution_count": 6,
     "metadata": {},
     "output_type": "execute_result"
    }
   ],
   "source": [
    "using Printf, DelimitedFiles, LinearAlgebra, Statistics\n",
    "\n",
    "include(\"jlFiles/FindNoNaNPs.jl\")\n",
    "include(\"jlFiles/HDirProdPs.jl\")\n",
    "include(\"jlFiles/iterationPrintPs.jl\")\n",
    "include(\"jlFiles/HszDk5dwPs.jl\")"
   ]
  },
  {
   "cell_type": "code",
   "execution_count": 7,
   "metadata": {},
   "outputs": [
    {
     "data": {
      "text/plain": [
       "(61, 219)"
      ]
     },
     "execution_count": 7,
     "metadata": {},
     "output_type": "execute_result"
    }
   ],
   "source": [
    "#using JLD\n",
    "#xTN = load(\"bidaskspread.jld\",\"xTN\")          #load data, from Hoechle\n",
    "#(BA,TRMS,TRMS2,aVol,Size)    = [xTN[:,:,i] for i=4:8]\n",
    "\n",
    "BA    = readdlm(\"Data/BA.csv\",',')\n",
    "TRMS  = readdlm(\"Data/TRMS.csv\",',')\n",
    "TRMS2 = readdlm(\"Data/TRMS2.csv\",',')\n",
    "aVol  = readdlm(\"Data/aVol.csv\",',')\n",
    "Size  = readdlm(\"Data/Size.csv\",',')\n",
    "\n",
    "(T,N) = size(BA)"
   ]
  },
  {
   "cell_type": "code",
   "execution_count": 8,
   "metadata": {},
   "outputs": [
    {
     "name": "stdout",
     "output_type": "stream",
     "text": [
      "\n",
      "Pooled OLS\n",
      "b, Std and tstat from OLS\n"
     ]
    },
    {
     "data": {
      "text/plain": [
       "5×3 Matrix{Float64}:\n",
       " -0.0018  0.0004   -4.007\n",
       " -0.1519  0.0087  -17.4151\n",
       "  0.0033  0.0006    5.2959\n",
       " -0.0018  0.005    -0.3698\n",
       "  1.4591  0.0577   25.2702"
      ]
     },
     "metadata": {},
     "output_type": "display_data"
    }
   ],
   "source": [
    "println(\"\\nPooled OLS\")\n",
    "x   = [vec(aVol') vec(Size') vec(TRMS2') vec(TRMS') vec(ones(T,N)')]\n",
    "y   = vec(BA')           #stack rows in column vector\n",
    "\n",
    "vv  = FindNoNaNPs(1,y,x)\n",
    "(y,x) = (y[vv],x[vv,:])    #prune NaNs\n",
    "\n",
    "b    = x\\y\n",
    "res  = y - x*b\n",
    "Covb = inv(x'x)*var(res)\n",
    "Stdb = sqrt.(diag(Covb))\n",
    "println(\"b, Std and tstat from OLS\")\n",
    "display(round.([b Stdb b./Stdb],digits=4))"
   ]
  },
  {
   "cell_type": "code",
   "execution_count": 9,
   "metadata": {},
   "outputs": [
    {
     "name": "stdout",
     "output_type": "stream",
     "text": [
      "\n",
      "HszDk5dwPs, effectively weighting all obs equally\n",
      "theta, std and t-stat\n"
     ]
    },
    {
     "data": {
      "text/plain": [
       "5×3 Matrix{Float64}:\n",
       " -0.0018  0.0011   -1.6267\n",
       " -0.1519  0.0103  -14.7892\n",
       "  0.0033  0.0009    3.7726\n",
       " -0.0018  0.0052   -0.3508\n",
       "  1.4591  0.1354   10.7749"
      ]
     },
     "metadata": {},
     "output_type": "display_data"
    },
    {
     "name": "stdout",
     "output_type": "stream",
     "text": [
      "Compare the results to Table 2 in Hoechle, 2007, 'Robust Standard Errors...'\n"
     ]
    }
   ],
   "source": [
    "println(\"\\nHszDk5dwPs, effectively weighting all obs equally\")\n",
    "x = ones(T)\n",
    "z = cat(aVol,Size,TRMS2,TRMS,ones(T,N),dims=3)\n",
    "fnO = HszDk5dwPs(BA,x,z,false,8,0)\n",
    "theta    = fnO.theta\n",
    "stdDKj   = fnO.stdDKj\n",
    "\n",
    "println(\"theta, std and t-stat\")\n",
    "display(round.([theta stdDKj theta./stdDKj],digits=4))\n",
    "\n",
    "println(\"Compare the results to Table 2 in Hoechle, 2007, 'Robust Standard Errors...'\")"
   ]
  },
  {
   "cell_type": "code",
   "execution_count": 10,
   "metadata": {},
   "outputs": [
    {
     "name": "stdout",
     "output_type": "stream",
     "text": [
      "\n",
      "HszDk5dwPs, effectively weighting all periods equally, irrespective of number of obs\n",
      "theta, std and t-stat\n"
     ]
    },
    {
     "data": {
      "text/plain": [
       "5×3 Matrix{Float64}:\n",
       " -0.0021  0.0011   -1.8878\n",
       " -0.1497  0.0098  -15.2201\n",
       "  0.0031  0.0009    3.4814\n",
       " -0.0007  0.006    -0.1093\n",
       "  1.465   0.1407   10.4109"
      ]
     },
     "metadata": {},
     "output_type": "display_data"
    }
   ],
   "source": [
    "println(\"\\nHszDk5dwPs, effectively weighting all periods equally, irrespective of number of obs\")\n",
    "x = ones(T,1)\n",
    "z = cat(aVol,Size,TRMS2,TRMS,ones(T,N),dims=3)\n",
    "fnO = HszDk5dwPs(BA,x,z,false,8,1)\n",
    "theta    = fnO.theta\n",
    "stdDKj   = fnO.stdDKj\n",
    "\n",
    "println(\"theta, std and t-stat\")\n",
    "display(round.([theta stdDKj theta./stdDKj],digits=4))"
   ]
  },
  {
   "cell_type": "markdown",
   "metadata": {},
   "source": [
    "---\n",
    "\n",
    "*This notebook was generated using [Literate.jl](https://github.com/fredrikekre/Literate.jl).*"
   ]
  }
 ],
 "metadata": {
  "kernelspec": {
   "display_name": "Julia 1.9.0",
   "language": "julia",
   "name": "julia-1.9"
  },
  "language_info": {
   "file_extension": ".jl",
   "mimetype": "application/julia",
   "name": "julia",
   "version": "1.9.0"
  },
  "nteract": {
   "version": "0.28.0"
  }
 },
 "nbformat": 4,
 "nbformat_minor": 4
}
